{
  "cells": [
    {
      "cell_type": "code",
      "execution_count": 130,
      "metadata": {
        "id": "RdSfsbxhJOTi"
      },
      "outputs": [],
      "source": [
        "import tensorflow as tf\n",
        "import numpy as np\n",
        "\n",
        "\n",
        "#Import data\n",
        "\n",
        "# Use the default parameters to keras.datasets.imdb.load_data\n",
        "start_char = 1\n",
        "oov_char = 2\n",
        "index_from = 3\n",
        "# Retrieve the training sequences.\n",
        "(x_train_imdb, y_train_imdb), (x_test_imdb, y_test_imdb) = tf.keras.datasets.imdb.load_data()\n",
        "# Retrieve the word index file mapping words to indices\n",
        "word_index = tf.keras.datasets.imdb.get_word_index()\n",
        "# Reverse the word index to obtain a dict mapping indices to words\n",
        "# And add `index_from` to indices to sync with `x_train`\n",
        "inverted_word_index = dict(\n",
        "    (i + index_from, word) for (word, i) in word_index.items()\n",
        ")\n",
        "# Update `inverted_word_index` to include `start_char` and `oov_char`\n",
        "inverted_word_index[start_char] = \"[START]\"\n",
        "inverted_word_index[oov_char] = \"[OOV]\"\n",
        "# Decode the first sequence in the dataset\n",
        "decoded_list = []\n",
        "\n",
        "for j in range(25000):\n",
        "  decoded_sequence = \" \".join(inverted_word_index[i] for i in x_train_imdb[j])\n",
        "  decoded_list.append(decoded_sequence)\n",
        "\n",
        "decoded_list_test = []\n",
        "for j in range(25000):\n",
        "  decoded_sequence = \" \".join(inverted_word_index[i] for i in x_test_imdb[j])\n",
        "  decoded_list_test.append(decoded_sequence)\n"
      ]
    },
    {
      "cell_type": "code",
      "execution_count": 131,
      "metadata": {
        "colab": {
          "base_uri": "https://localhost:8080/"
        },
        "id": "hmnUZyxlOWgr",
        "outputId": "e8802a99-467a-4685-d86a-2246b5f12f25"
      },
      "outputs": [
        {
          "name": "stderr",
          "output_type": "stream",
          "text": [
            "[nltk_data] Downloading package stopwords to /root/nltk_data...\n",
            "[nltk_data]   Package stopwords is already up-to-date!\n"
          ]
        }
      ],
      "source": [
        "!pip install -q wordcloud\n",
        "import wordcloud\n",
        "\n",
        "import nltk\n",
        "nltk.download('stopwords')\n",
        "\n",
        "from nltk.corpus import stopwords\n",
        "stopwords = set(stopwords.words('english'))"
      ]
    },
    {
      "cell_type": "code",
      "execution_count": 132,
      "metadata": {
        "id": "0OLfzsDOP-4m"
      },
      "outputs": [],
      "source": [
        "import re\n",
        "def word_extraction(sentence):\n",
        "  words = re.sub(\"[^\\w]\", \" \",  sentence).split()\n",
        "  cleaned_text = [w.lower() for w in words if w not in stopwords]\n",
        "  return cleaned_text"
      ]
    },
    {
      "cell_type": "code",
      "execution_count": 133,
      "metadata": {
        "id": "Gs5xeJfZJf4C"
      },
      "outputs": [],
      "source": [
        "def tokenize(sentences):\n",
        "  words = []\n",
        "  for sentence in sentences:\n",
        "    w = word_extraction(sentence)\n",
        "    words.extend(w)\n",
        "    words = sorted(list(set(words)))\n",
        "    return words\n"
      ]
    },
    {
      "cell_type": "code",
      "execution_count": 134,
      "metadata": {
        "id": "xj5buGLDRDAW"
      },
      "outputs": [],
      "source": [
        "def generate_bow(allsentences):\n",
        "  vocab = tokenize(allsentences)\n",
        "  print(\"Word List for Document \\n{0} \\n\".format(vocab));\n"
      ]
    },
    {
      "cell_type": "code",
      "execution_count": 135,
      "metadata": {
        "id": "v529vkYcM9vu"
      },
      "outputs": [],
      "source": [
        "#Create vocabulary\n",
        "from operator import itemgetter\n",
        "\n",
        "vocab = dict()\n",
        "for review in decoded_list:\n",
        "    words = word_extraction(review)\n",
        "    for word in words:\n",
        "      #for i,w in enumerate(vocab):\n",
        "      if word in vocab:\n",
        "          vocab[word] += 1\n",
        "      else:\n",
        "          vocab[word] = 1\n",
        "#truncate to 10000 most common words as per paper\n",
        "sortedVocab = dict(sorted(vocab.items(), key=itemgetter(1), reverse=True)[:10000])\n",
        "vocab = sortedVocab\n"
      ]
    },
    {
      "cell_type": "code",
      "execution_count": 136,
      "metadata": {
        "id": "nH1HGYLFRJA5"
      },
      "outputs": [],
      "source": [
        "#Create bag vectors for each entry\n",
        "def create_bag_vector(decoded_list, vocab):\n",
        "  bag_vector = []\n",
        "  for review in decoded_list:\n",
        "    bv = np.zeros(len(vocab))\n",
        "    words = word_extraction(review)\n",
        "    for word in words:\n",
        "      if word in vocab:\n",
        "        index = list(vocab).index(word)\n",
        "        bv[index] += 1\n",
        "    bag_vector.append(bv)\n",
        "\n",
        "  return bag_vector"
      ]
    },
    {
      "cell_type": "code",
      "execution_count": 137,
      "metadata": {
        "id": "PKfeghiRcV8w"
      },
      "outputs": [],
      "source": [
        "from tensorflow.python.ops.critical_section_ops import control_flow_ops\n",
        "#Create Models\n",
        "from sklearn.linear_model import LogisticRegression\n",
        "from sklearn import metrics\n",
        "from sklearn.metrics import classification_report, confusion_matrix\n",
        "from sklearn.model_selection import cross_val_score, cross_val_predict\n",
        "clf_lr = LogisticRegression()\n",
        "\n",
        "bv_train = create_bag_vector(decoded_list, vocab)\n",
        "bv_test = create_bag_vector(decoded_list_test, vocab)\n",
        "\n"
      ]
    },
    {
      "cell_type": "code",
      "execution_count": 138,
      "metadata": {
        "id": "WYPuzOJms25T"
      },
      "outputs": [],
      "source": [
        "lr = LogisticRegression(penalty='l2', max_iter = 500, C=1, random_state=42)\n",
        "lr_imdb=lr.fit(bv_train, y_train_imdb)\n",
        "lr_imdb_predict=lr.predict(bv_test)"
      ]
    },
    {
      "cell_type": "code",
      "execution_count": 139,
      "metadata": {
        "colab": {
          "base_uri": "https://localhost:8080/"
        },
        "id": "1KHpMyYCMlc7",
        "outputId": "245d6f8b-6bdd-43cd-ae31-fb7e6092db27"
      },
      "outputs": [
        {
          "name": "stdout",
          "output_type": "stream",
          "text": [
            "lr_imdb_score : 0.8558\n"
          ]
        }
      ],
      "source": [
        "from sklearn.metrics import classification_report,confusion_matrix,accuracy_score\n",
        "\n",
        "lr_imdb_score=accuracy_score(y_test_imdb,lr_imdb_predict)\n",
        "print(\"lr_imdb_score :\",lr_imdb_score)"
      ]
    },
    {
      "cell_type": "code",
      "execution_count": 140,
      "metadata": {
        "colab": {
          "base_uri": "https://localhost:8080/"
        },
        "id": "loDedZQ8M_f7",
        "outputId": "fc7695df-f589-4bda-d0ba-82ef2e3a1613"
      },
      "outputs": [
        {
          "name": "stdout",
          "output_type": "stream",
          "text": [
            "              precision    recall  f1-score   support\n",
            "\n",
            "    Positive       0.85      0.87      0.86     12500\n",
            "    Negative       0.86      0.84      0.85     12500\n",
            "\n",
            "    accuracy                           0.86     25000\n",
            "   macro avg       0.86      0.86      0.86     25000\n",
            "weighted avg       0.86      0.86      0.86     25000\n",
            "\n"
          ]
        }
      ],
      "source": [
        "lr_bow_report=classification_report(y_test_imdb,lr_imdb_predict,target_names=['Positive','Negative'])\n",
        "print(lr_bow_report)"
      ]
    },
    {
      "cell_type": "code",
      "execution_count": 141,
      "metadata": {
        "colab": {
          "base_uri": "https://localhost:8080/"
        },
        "id": "ClH3rX9uOv6v",
        "outputId": "59d7f156-e35c-49dd-df39-7b31ee90f5f0"
      },
      "outputs": [
        {
          "name": "stdout",
          "output_type": "stream",
          "text": [
            "Model: \"sequential_16\"\n",
            "_________________________________________________________________\n",
            " Layer (type)                Output Shape              Param #   \n",
            "=================================================================\n",
            " dense_35 (Dense)            (None, 32)                320000    \n",
            "                                                                 \n",
            " batch_normalization (Batch  (None, 32)                128       \n",
            " Normalization)                                                  \n",
            "                                                                 \n",
            " activation (Activation)     (None, 32)                0         \n",
            "                                                                 \n",
            " dropout (Dropout)           (None, 32)                0         \n",
            "                                                                 \n",
            " dense_36 (Dense)            (None, 12)                384       \n",
            "                                                                 \n",
            " batch_normalization_1 (Bat  (None, 12)                48        \n",
            " chNormalization)                                                \n",
            "                                                                 \n",
            " activation_1 (Activation)   (None, 12)                0         \n",
            "                                                                 \n",
            " dropout_1 (Dropout)         (None, 12)                0         \n",
            "                                                                 \n",
            " dense_37 (Dense)            (None, 1)                 13        \n",
            "                                                                 \n",
            "=================================================================\n",
            "Total params: 320573 (1.22 MB)\n",
            "Trainable params: 320485 (1.22 MB)\n",
            "Non-trainable params: 88 (352.00 Byte)\n",
            "_________________________________________________________________\n"
          ]
        }
      ],
      "source": [
        "#IMDB MLP Model - Adam Optimizer\n",
        "\n",
        "!pip install -q keras\n",
        "import tensorflow as tf\n",
        "import keras\n",
        "from keras.models import Sequential\n",
        "from keras.layers import Activation, Dense, Dropout\n",
        "from tensorflow.keras.layers import BatchNormalization\n",
        "#from keras.layers.normalization import BatchNormalization\n",
        "from keras.optimizers import Adam\n",
        "from keras.initializers import glorot_uniform\n",
        "from keras.datasets import imdb\n",
        "\n",
        "\n",
        "model = Sequential()\n",
        "RANDOM_SEED = 3939\n",
        "model.add(Dense(32,\n",
        "                input_shape=(len(vocab),),\n",
        "                kernel_initializer=glorot_uniform(seed=RANDOM_SEED),\n",
        "                use_bias=False))\n",
        "model.add(BatchNormalization())\n",
        "model.add(Activation(\"relu\"))\n",
        "model.add(Dropout(0.8))\n",
        "\n",
        "model.add(Dense(12,\n",
        "                kernel_initializer=glorot_uniform(seed=RANDOM_SEED),\n",
        "                use_bias=False))\n",
        "model.add(BatchNormalization())\n",
        "model.add(Activation(\"relu\"))\n",
        "model.add(Dropout(0.5))\n",
        "\n",
        "model.add(Dense(1,\n",
        "                activation=\"sigmoid\",\n",
        "                kernel_initializer=glorot_uniform(seed=RANDOM_SEED)))\n",
        "\n",
        "model.compile(loss=\"binary_crossentropy\", optimizer=Adam(0.0007),\n",
        "              metrics=[\"accuracy\"])\n",
        "\n",
        "model.summary()"
      ]
    },
    {
      "cell_type": "code",
      "execution_count": 142,
      "metadata": {
        "id": "CvO4Sne7VgmX"
      },
      "outputs": [],
      "source": [
        "arr_train = np.array(bv_train)\n",
        "arr_test = np.array(bv_test)"
      ]
    },
    {
      "cell_type": "code",
      "execution_count": 143,
      "metadata": {
        "colab": {
          "base_uri": "https://localhost:8080/"
        },
        "id": "WGoh-SvwRnhu",
        "outputId": "828f6b68-8371-4093-f708-9d51dfa9c563"
      },
      "outputs": [
        {
          "name": "stdout",
          "output_type": "stream",
          "text": [
            "Epoch 1/16\n"
          ]
        },
        {
          "name": "stderr",
          "output_type": "stream",
          "text": [
            "/usr/local/lib/python3.10/dist-packages/tensorflow/python/data/ops/structured_function.py:265: UserWarning: Even though the `tf.config.experimental_run_functions_eagerly` option is set, this option does not apply to tf.data functions. To force eager execution of tf.data functions, please use `tf.data.experimental.enable_debug_mode()`.\n",
            "  warnings.warn(\n"
          ]
        },
        {
          "name": "stdout",
          "output_type": "stream",
          "text": [
            "1563/1563 - 114s - loss: 0.6002 - accuracy: 0.6699 - val_loss: 0.4229 - val_accuracy: 0.8685 - 114s/epoch - 73ms/step\n",
            "Epoch 2/16\n",
            "1563/1563 - 110s - loss: 0.4696 - accuracy: 0.7854 - val_loss: 0.3404 - val_accuracy: 0.8827 - 110s/epoch - 71ms/step\n",
            "Epoch 3/16\n",
            "1563/1563 - 108s - loss: 0.4235 - accuracy: 0.8159 - val_loss: 0.3203 - val_accuracy: 0.8855 - 108s/epoch - 69ms/step\n",
            "Epoch 4/16\n",
            "1563/1563 - 109s - loss: 0.3942 - accuracy: 0.8348 - val_loss: 0.3099 - val_accuracy: 0.8810 - 109s/epoch - 70ms/step\n",
            "Epoch 5/16\n",
            "1563/1563 - 112s - loss: 0.3800 - accuracy: 0.8424 - val_loss: 0.2944 - val_accuracy: 0.8862 - 112s/epoch - 72ms/step\n",
            "Epoch 6/16\n",
            "1563/1563 - 112s - loss: 0.3644 - accuracy: 0.8532 - val_loss: 0.2918 - val_accuracy: 0.8841 - 112s/epoch - 72ms/step\n",
            "Epoch 7/16\n",
            "1563/1563 - 113s - loss: 0.3608 - accuracy: 0.8516 - val_loss: 0.2985 - val_accuracy: 0.8802 - 113s/epoch - 72ms/step\n",
            "Epoch 8/16\n",
            "1563/1563 - 108s - loss: 0.3443 - accuracy: 0.8610 - val_loss: 0.2925 - val_accuracy: 0.8809 - 108s/epoch - 69ms/step\n",
            "Epoch 9/16\n",
            "1563/1563 - 112s - loss: 0.3382 - accuracy: 0.8654 - val_loss: 0.2989 - val_accuracy: 0.8790 - 112s/epoch - 72ms/step\n",
            "Epoch 10/16\n",
            "1563/1563 - 113s - loss: 0.3440 - accuracy: 0.8624 - val_loss: 0.2949 - val_accuracy: 0.8825 - 113s/epoch - 72ms/step\n",
            "Epoch 11/16\n",
            "1563/1563 - 125s - loss: 0.3295 - accuracy: 0.8664 - val_loss: 0.2934 - val_accuracy: 0.8795 - 125s/epoch - 80ms/step\n",
            "Epoch 12/16\n",
            "1563/1563 - 122s - loss: 0.3282 - accuracy: 0.8674 - val_loss: 0.2962 - val_accuracy: 0.8787 - 122s/epoch - 78ms/step\n",
            "Epoch 13/16\n",
            "1563/1563 - 127s - loss: 0.3225 - accuracy: 0.8722 - val_loss: 0.2991 - val_accuracy: 0.8770 - 127s/epoch - 82ms/step\n",
            "Epoch 14/16\n",
            "1563/1563 - 122s - loss: 0.3177 - accuracy: 0.8711 - val_loss: 0.2987 - val_accuracy: 0.8784 - 122s/epoch - 78ms/step\n",
            "Epoch 15/16\n",
            "1563/1563 - 125s - loss: 0.3195 - accuracy: 0.8717 - val_loss: 0.3015 - val_accuracy: 0.8767 - 125s/epoch - 80ms/step\n",
            "Epoch 16/16\n",
            "1563/1563 - 123s - loss: 0.3150 - accuracy: 0.8751 - val_loss: 0.3010 - val_accuracy: 0.8777 - 123s/epoch - 79ms/step\n"
          ]
        }
      ],
      "source": [
        "history = model.fit(arr_train, y_train_imdb,\n",
        "                    batch_size=16,\n",
        "                    epochs=16,\n",
        "                    verbose=2,\n",
        "                    validation_data=(arr_test, y_test_imdb))"
      ]
    },
    {
      "cell_type": "code",
      "execution_count": 144,
      "metadata": {
        "colab": {
          "base_uri": "https://localhost:8080/"
        },
        "id": "sW3GBwO2RoRV",
        "outputId": "0f1b9ac3-65cf-49c6-8f5f-ddad1277058f"
      },
      "outputs": [
        {
          "name": "stdout",
          "output_type": "stream",
          "text": [
            "Train data results:\n",
            " - error: 0.13277556002140045\n",
            " - acc: 0.9677600264549255\n",
            "Test data results:\n",
            " - error: 0.30098670721054077\n",
            " - acc: 0.8776800036430359\n"
          ]
        }
      ],
      "source": [
        "\n",
        "train_score = model.evaluate(arr_train, y_train_imdb, verbose=0)\n",
        "test_score = model.evaluate(arr_test, y_test_imdb, verbose=0)\n",
        "\n",
        "train_score, train_accuracy = train_score\n",
        "print(\"Train data results:\")\n",
        "print(\" - error: {}\".format(train_score))\n",
        "print(\" - acc: {}\".format(train_accuracy))\n",
        "\n",
        "test_score, test_accuracy = test_score\n",
        "print(\"Test data results:\")\n",
        "print(\" - error: {}\".format(test_score))\n",
        "print(\" - acc: {}\".format(test_accuracy))"
      ]
    },
    {
      "cell_type": "code",
      "execution_count": 145,
      "metadata": {
        "colab": {
          "base_uri": "https://localhost:8080/",
          "height": 564
        },
        "id": "lTf5k0xdeVdu",
        "outputId": "f1cdcc28-0c12-436d-d954-2568e78aa18a"
      },
      "outputs": [
        {
          "data": {
            "image/png": "[encoded data removed]",
            "text/plain": [
              "<Figure size 1000x600 with 1 Axes>"
            ]
          },
          "metadata": {},
          "output_type": "display_data"
        }
      ],
      "source": [
        "import matplotlib.pyplot as plt\n",
        "%matplotlib inline\n",
        "\n",
        "f, ax = plt.subplots()\n",
        "f.set_size_inches(10, 6)\n",
        "\n",
        "ax.plot(history.history[\"loss\"], c=\"r\")\n",
        "ax.plot(history.history[\"val_loss\"], c=\"b\")\n",
        "ax.set_title(\"Error (Categorical Cross-Entropy)\")\n",
        "ax.set_ylabel(\"Value\")\n",
        "ax.set_xlabel(\"Epoch\")\n",
        "ax.legend([\"Training\", \"Validation\"], loc=\"best\");"
      ]
    },
    {
      "cell_type": "code",
      "execution_count": 146,
      "metadata": {
        "colab": {
          "base_uri": "https://localhost:8080/"
        },
        "id": "J-vwnRYAnxCh",
        "outputId": "4d683c5f-1a6f-44b3-f886-726f68ba1ef4"
      },
      "outputs": [
        {
          "name": "stdout",
          "output_type": "stream",
          "text": [
            "Model: \"sequential_17\"\n",
            "_________________________________________________________________\n",
            " Layer (type)                Output Shape              Param #   \n",
            "=================================================================\n",
            " dense_38 (Dense)            (None, 32)                320000    \n",
            "                                                                 \n",
            " batch_normalization_2 (Bat  (None, 32)                128       \n",
            " chNormalization)                                                \n",
            "                                                                 \n",
            " activation_2 (Activation)   (None, 32)                0         \n",
            "                                                                 \n",
            " dropout_2 (Dropout)         (None, 32)                0         \n",
            "                                                                 \n",
            " dense_39 (Dense)            (None, 12)                384       \n",
            "                                                                 \n",
            " batch_normalization_3 (Bat  (None, 12)                48        \n",
            " chNormalization)                                                \n",
            "                                                                 \n",
            " activation_3 (Activation)   (None, 12)                0         \n",
            "                                                                 \n",
            " dropout_3 (Dropout)         (None, 12)                0         \n",
            "                                                                 \n",
            " dense_40 (Dense)            (None, 1)                 13        \n",
            "                                                                 \n",
            "=================================================================\n",
            "Total params: 320573 (1.22 MB)\n",
            "Trainable params: 320485 (1.22 MB)\n",
            "Non-trainable params: 88 (352.00 Byte)\n",
            "_________________________________________________________________\n"
          ]
        }
      ],
      "source": [
        "#MLP - SGD optimizer\n",
        "from tensorflow.keras.optimizers.legacy import SGD\n",
        "\n",
        "model = Sequential()\n",
        "RANDOM_SEED = 3939\n",
        "model.add(Dense(32,\n",
        "                input_shape=(len(vocab),),\n",
        "                kernel_initializer=glorot_uniform(seed=RANDOM_SEED),\n",
        "                use_bias=False))\n",
        "model.add(BatchNormalization())\n",
        "model.add(Activation(\"relu\"))\n",
        "model.add(Dropout(0.8))\n",
        "\n",
        "model.add(Dense(12,\n",
        "                kernel_initializer=glorot_uniform(seed=RANDOM_SEED),\n",
        "                use_bias=False))\n",
        "model.add(BatchNormalization())\n",
        "model.add(Activation(\"relu\"))\n",
        "model.add(Dropout(0.5))\n",
        "\n",
        "model.add(Dense(1,\n",
        "                activation=\"sigmoid\",\n",
        "                kernel_initializer=glorot_uniform(seed=RANDOM_SEED)))\n",
        "\n",
        "model.compile(loss=\"binary_crossentropy\", optimizer='sgd',\n",
        "              metrics=[\"accuracy\"])\n",
        "\n",
        "model.summary()"
      ]
    },
    {
      "cell_type": "code",
      "execution_count": 147,
      "metadata": {
        "id": "ys1oESRhoEgX"
      },
      "outputs": [],
      "source": [
        "arr_train = np.array(bv_train)\n",
        "arr_test = np.array(bv_test)"
      ]
    },
    {
      "cell_type": "code",
      "execution_count": 148,
      "metadata": {
        "colab": {
          "base_uri": "https://localhost:8080/"
        },
        "id": "3BmKKZTroIft",
        "outputId": "89557793-a57b-4076-8003-7ca09760a8a7"
      },
      "outputs": [
        {
          "name": "stdout",
          "output_type": "stream",
          "text": [
            "Epoch 1/16\n",
            "1563/1563 - 101s - loss: 0.6588 - accuracy: 0.6018 - val_loss: 0.5626 - val_accuracy: 0.8052 - 101s/epoch - 64ms/step\n",
            "Epoch 2/16\n",
            "1563/1563 - 101s - loss: 0.5830 - accuracy: 0.6843 - val_loss: 0.4832 - val_accuracy: 0.8359 - 101s/epoch - 65ms/step\n",
            "Epoch 3/16\n",
            "1563/1563 - 94s - loss: 0.5373 - accuracy: 0.7282 - val_loss: 0.4360 - val_accuracy: 0.8486 - 94s/epoch - 60ms/step\n",
            "Epoch 4/16\n",
            "1563/1563 - 92s - loss: 0.5025 - accuracy: 0.7563 - val_loss: 0.3930 - val_accuracy: 0.8610 - 92s/epoch - 59ms/step\n",
            "Epoch 5/16\n",
            "1563/1563 - 91s - loss: 0.4848 - accuracy: 0.7697 - val_loss: 0.3774 - val_accuracy: 0.8662 - 91s/epoch - 58ms/step\n",
            "Epoch 6/16\n",
            "1563/1563 - 91s - loss: 0.4622 - accuracy: 0.7860 - val_loss: 0.3507 - val_accuracy: 0.8695 - 91s/epoch - 58ms/step\n",
            "Epoch 7/16\n",
            "1563/1563 - 108s - loss: 0.4466 - accuracy: 0.8003 - val_loss: 0.3552 - val_accuracy: 0.8678 - 108s/epoch - 69ms/step\n",
            "Epoch 8/16\n",
            "1563/1563 - 94s - loss: 0.4406 - accuracy: 0.8047 - val_loss: 0.3389 - val_accuracy: 0.8732 - 94s/epoch - 60ms/step\n",
            "Epoch 9/16\n",
            "1563/1563 - 91s - loss: 0.4293 - accuracy: 0.8113 - val_loss: 0.3246 - val_accuracy: 0.8752 - 91s/epoch - 58ms/step\n",
            "Epoch 10/16\n",
            "1563/1563 - 91s - loss: 0.4175 - accuracy: 0.8174 - val_loss: 0.3192 - val_accuracy: 0.8769 - 91s/epoch - 58ms/step\n",
            "Epoch 11/16\n",
            "1563/1563 - 91s - loss: 0.4079 - accuracy: 0.8226 - val_loss: 0.3230 - val_accuracy: 0.8754 - 91s/epoch - 58ms/step\n",
            "Epoch 12/16\n",
            "1563/1563 - 91s - loss: 0.4108 - accuracy: 0.8231 - val_loss: 0.3153 - val_accuracy: 0.8789 - 91s/epoch - 58ms/step\n",
            "Epoch 13/16\n",
            "1563/1563 - 109s - loss: 0.3985 - accuracy: 0.8283 - val_loss: 0.3092 - val_accuracy: 0.8774 - 109s/epoch - 70ms/step\n",
            "Epoch 14/16\n",
            "1563/1563 - 109s - loss: 0.3997 - accuracy: 0.8266 - val_loss: 0.3142 - val_accuracy: 0.8802 - 109s/epoch - 70ms/step\n",
            "Epoch 15/16\n",
            "1563/1563 - 109s - loss: 0.3871 - accuracy: 0.8329 - val_loss: 0.3100 - val_accuracy: 0.8762 - 109s/epoch - 70ms/step\n",
            "Epoch 16/16\n",
            "1563/1563 - 90s - loss: 0.3832 - accuracy: 0.8385 - val_loss: 0.2992 - val_accuracy: 0.8788 - 90s/epoch - 58ms/step\n"
          ]
        }
      ],
      "source": [
        "history = model.fit(arr_train, y_train_imdb,\n",
        "                    batch_size=16,\n",
        "                    epochs=16,\n",
        "                    verbose=2,\n",
        "                    validation_data=(arr_test, y_test_imdb))"
      ]
    },
    {
      "cell_type": "code",
      "execution_count": 149,
      "metadata": {
        "colab": {
          "base_uri": "https://localhost:8080/"
        },
        "id": "sjnhQYiaoNcY",
        "outputId": "eea5828a-4110-4db8-965c-1e8e21d4d001"
      },
      "outputs": [
        {
          "name": "stdout",
          "output_type": "stream",
          "text": [
            "Train data results:\n",
            " - error: 0.21998576819896698\n",
            " - acc: 0.9275199770927429\n",
            "Test data results:\n",
            " - error: 0.2991553246974945\n",
            " - acc: 0.8787999749183655\n"
          ]
        }
      ],
      "source": [
        "train_score = model.evaluate(arr_train, y_train_imdb, verbose=0)\n",
        "test_score = model.evaluate(arr_test, y_test_imdb, verbose=0)\n",
        "\n",
        "train_score, train_accuracy = train_score\n",
        "print(\"Train data results:\")\n",
        "print(\" - error: {}\".format(train_score))\n",
        "print(\" - acc: {}\".format(train_accuracy))\n",
        "\n",
        "test_score, test_accuracy = test_score\n",
        "print(\"Test data results:\")\n",
        "print(\" - error: {}\".format(test_score))\n",
        "print(\" - acc: {}\".format(test_accuracy))"
      ]
    },
    {
      "cell_type": "code",
      "execution_count": 150,
      "metadata": {
        "colab": {
          "base_uri": "https://localhost:8080/",
          "height": 564
        },
        "id": "5QHAkahvoYZt",
        "outputId": "71aaa7d9-6906-43fa-9c23-d278f31ab944"
      },
      "outputs": [
        {
          "data": {
            "image/png": "[encoded data removed]",
            "text/plain": [
              "<Figure size 1000x600 with 1 Axes>"
            ]
          },
          "metadata": {},
          "output_type": "display_data"
        }
      ],
      "source": [
        "import matplotlib.pyplot as plt\n",
        "%matplotlib inline\n",
        "\n",
        "f, ax = plt.subplots()\n",
        "f.set_size_inches(10, 6)\n",
        "\n",
        "ax.plot(history.history[\"loss\"], c=\"r\")\n",
        "ax.plot(history.history[\"val_loss\"], c=\"b\")\n",
        "ax.set_title(\"Error (Categorical Cross-Entropy)\")\n",
        "ax.set_ylabel(\"Value\")\n",
        "ax.set_xlabel(\"Epoch\")\n",
        "ax.legend([\"Training\", \"Validation\"], loc=\"best\");"
      ]
    },
    {
      "cell_type": "code",
      "execution_count": 151,
      "metadata": {
        "id": "zHl5whcP-2Li"
      },
      "outputs": [],
      "source": [
        "#CNN - Adam Optimizer\n",
        "\n",
        "import numpy\n",
        "from keras.datasets import imdb\n",
        "from keras.models import Sequential\n",
        "from keras.layers import Dense,Flatten,Activation,Conv1D,MaxPooling1D, Embedding\n",
        "from keras.preprocessing import sequence\n",
        "\n",
        "#fix random seed for reproducibility\n",
        "seed = 7\n",
        "numpy.random.seed(seed)\n",
        "max_words = 10000"
      ]
    },
    {
      "cell_type": "code",
      "execution_count": 152,
      "metadata": {
        "id": "RT87pN7M_EMO"
      },
      "outputs": [],
      "source": [
        "#create the model\n",
        "model = Sequential()\n",
        "model.add(Embedding(10000,32,input_length=max_words))\n",
        "model.add(Conv1D(32,3,padding='same',activation='relu'))\n",
        "model.add(MaxPooling1D(pool_size=2))\n",
        "model.add(Flatten())\n",
        "model.add(Dense(250,activation='relu'))\n",
        "model.add(Dense(1,activation='sigmoid'))"
      ]
    },
    {
      "cell_type": "code",
      "execution_count": 153,
      "metadata": {
        "id": "9SYRJxSf_Nk6"
      },
      "outputs": [],
      "source": [
        "model.compile(loss='binary_crossentropy',optimizer='adam',metrics=['accuracy'])"
      ]
    },
    {
      "cell_type": "code",
      "execution_count": 154,
      "metadata": {
        "colab": {
          "base_uri": "https://localhost:8080/"
        },
        "id": "2-UQ4ZP6_PGe",
        "outputId": "2b9715ee-05b2-4bb4-e458-7fe7d7ba8b0d"
      },
      "outputs": [
        {
          "name": "stdout",
          "output_type": "stream",
          "text": [
            "Model: \"sequential_18\"\n",
            "_________________________________________________________________\n",
            " Layer (type)                Output Shape              Param #   \n",
            "=================================================================\n",
            " embedding_8 (Embedding)     (None, 10000, 32)         320000    \n",
            "                                                                 \n",
            " conv1d_8 (Conv1D)           (None, 10000, 32)         3104      \n",
            "                                                                 \n",
            " max_pooling1d_8 (MaxPoolin  (None, 5000, 32)          0         \n",
            " g1D)                                                            \n",
            "                                                                 \n",
            " flatten_10 (Flatten)        (None, 160000)            0         \n",
            "                                                                 \n",
            " dense_41 (Dense)            (None, 250)               40000250  \n",
            "                                                                 \n",
            " dense_42 (Dense)            (None, 1)                 251       \n",
            "                                                                 \n",
            "=================================================================\n",
            "Total params: 40323605 (153.82 MB)\n",
            "Trainable params: 40323605 (153.82 MB)\n",
            "Non-trainable params: 0 (0.00 Byte)\n",
            "_________________________________________________________________\n"
          ]
        }
      ],
      "source": [
        "model.summary()"
      ]
    },
    {
      "cell_type": "code",
      "execution_count": 155,
      "metadata": {
        "colab": {
          "base_uri": "https://localhost:8080/"
        },
        "id": "eXvgrB2G_RXz",
        "outputId": "20f7ec8a-15f2-4de9-8587-50772bdcc9a3"
      },
      "outputs": [
        {
          "name": "stdout",
          "output_type": "stream",
          "text": [
            "Epoch 1/2\n",
            "196/196 [==============================] - 305s 2s/step - loss: 0.4289 - accuracy: 0.8045 - val_loss: 0.3497 - val_accuracy: 0.8548\n",
            "Epoch 2/2\n",
            "196/196 [==============================] - 271s 1s/step - loss: 0.2231 - accuracy: 0.9120 - val_loss: 0.3430 - val_accuracy: 0.8603\n"
          ]
        },
        {
          "data": {
            "text/plain": [
              "<keras.src.callbacks.History at 0x7f869a0f3820>"
            ]
          },
          "execution_count": 155,
          "metadata": {},
          "output_type": "execute_result"
        }
      ],
      "source": [
        "model.fit(arr_train, y_train_imdb, validation_data=(arr_test,y_test_imdb), epochs=2, batch_size=128, verbose=1)"
      ]
    },
    {
      "cell_type": "code",
      "execution_count": 156,
      "metadata": {
        "id": "Vn4PFUiHDZJY"
      },
      "outputs": [],
      "source": [
        "scores = model.evaluate(arr_test, y_test_imdb, verbose=0)"
      ]
    },
    {
      "cell_type": "code",
      "execution_count": 157,
      "metadata": {
        "colab": {
          "base_uri": "https://localhost:8080/"
        },
        "id": "vnChQ2kE_TmJ",
        "outputId": "f3a1ebad-fe66-4ce0-f932-70f8a4a45792"
      },
      "outputs": [
        {
          "name": "stdout",
          "output_type": "stream",
          "text": [
            "Accuracy: 86.03%\n"
          ]
        }
      ],
      "source": [
        "print(\"Accuracy: %.2f%%\" %(scores[1]*100))"
      ]
    },
    {
      "cell_type": "code",
      "execution_count": 158,
      "metadata": {
        "colab": {
          "base_uri": "https://localhost:8080/"
        },
        "id": "u27eW58LEeZ5",
        "outputId": "391134af-b092-4bc1-ef6a-ab7239afe937"
      },
      "outputs": [
        {
          "name": "stdout",
          "output_type": "stream",
          "text": [
            "Model: \"sequential_18\"\n",
            "_________________________________________________________________\n",
            " Layer (type)                Output Shape              Param #   \n",
            "=================================================================\n",
            " embedding_8 (Embedding)     (None, 10000, 32)         320000    \n",
            "                                                                 \n",
            " conv1d_8 (Conv1D)           (None, 10000, 32)         3104      \n",
            "                                                                 \n",
            " max_pooling1d_8 (MaxPoolin  (None, 5000, 32)          0         \n",
            " g1D)                                                            \n",
            "                                                                 \n",
            " flatten_10 (Flatten)        (None, 160000)            0         \n",
            "                                                                 \n",
            " dense_41 (Dense)            (None, 250)               40000250  \n",
            "                                                                 \n",
            " dense_42 (Dense)            (None, 1)                 251       \n",
            "                                                                 \n",
            "=================================================================\n",
            "Total params: 40323605 (153.82 MB)\n",
            "Trainable params: 40323605 (153.82 MB)\n",
            "Non-trainable params: 0 (0.00 Byte)\n",
            "_________________________________________________________________\n"
          ]
        }
      ],
      "source": [
        "#CNN + SGD Optimizer - IMDB\n",
        "model.compile(loss='binary_crossentropy',optimizer='sgd',metrics=['accuracy'])\n",
        "model.summary()"
      ]
    },
    {
      "cell_type": "code",
      "execution_count": 159,
      "metadata": {
        "colab": {
          "base_uri": "https://localhost:8080/"
        },
        "id": "YD_v4cg1E7KX",
        "outputId": "50f364a4-d638-424f-d159-900cbb10b09d"
      },
      "outputs": [
        {
          "name": "stdout",
          "output_type": "stream",
          "text": [
            "Epoch 1/2\n",
            "196/196 [==============================] - 233s 1s/step - loss: 0.1171 - accuracy: 0.9606 - val_loss: 0.4033 - val_accuracy: 0.8601\n",
            "Epoch 2/2\n",
            "196/196 [==============================] - 241s 1s/step - loss: 0.1117 - accuracy: 0.9608 - val_loss: 0.4034 - val_accuracy: 0.8604\n"
          ]
        },
        {
          "data": {
            "text/plain": [
              "<keras.src.callbacks.History at 0x7f869a112920>"
            ]
          },
          "execution_count": 159,
          "metadata": {},
          "output_type": "execute_result"
        }
      ],
      "source": [
        "model.fit(arr_train, y_train_imdb, validation_data=(arr_test,y_test_imdb), epochs=2, batch_size=128, verbose=1)"
      ]
    },
    {
      "cell_type": "code",
      "execution_count": 160,
      "metadata": {
        "id": "Q9fHeQE1E-D8"
      },
      "outputs": [],
      "source": [
        "scores = model.evaluate(arr_test, y_test_imdb, verbose=0)"
      ]
    },
    {
      "cell_type": "code",
      "execution_count": 161,
      "metadata": {
        "colab": {
          "base_uri": "https://localhost:8080/"
        },
        "id": "vH7P9zs5E_i7",
        "outputId": "66bf2111-7179-4930-b99c-447cf5fa2114"
      },
      "outputs": [
        {
          "name": "stdout",
          "output_type": "stream",
          "text": [
            "Accuracy: 86.04%\n"
          ]
        }
      ],
      "source": [
        "print(\"Accuracy: %.2f%%\" %(scores[1]*100))"
      ]
    },
    {
      "cell_type": "code",
      "execution_count": 162,
      "metadata": {
        "id": "OVwewcUpqhlB"
      },
      "outputs": [],
      "source": [
        "##########CFAR10#########\n",
        "\n",
        "#Logistic Regression Model\n"
      ]
    },
    {
      "cell_type": "code",
      "execution_count": 165,
      "metadata": {
        "id": "M3lK4s5k2AHW"
      },
      "outputs": [],
      "source": [
        "from keras.datasets import cifar10\n",
        "from keras.utils import to_categorical\n",
        "\n",
        "(X_train, y_train), (X_test, y_test) = cifar10.load_data()"
      ]
    },
    {
      "cell_type": "code",
      "execution_count": 166,
      "metadata": {
        "colab": {
          "base_uri": "https://localhost:8080/"
        },
        "id": "BAyCPwQs2BSA",
        "outputId": "a3fdcca0-87f4-4b55-ea29-27cb328b34b7"
      },
      "outputs": [
        {
          "name": "stdout",
          "output_type": "stream",
          "text": [
            "Shape of training data:\n",
            "(50000, 32, 32, 3)\n",
            "(50000, 1)\n",
            "Shape of test data:\n",
            "(10000, 32, 32, 3)\n",
            "(10000, 1)\n"
          ]
        }
      ],
      "source": [
        "print(\"Shape of training data:\")\n",
        "print(X_train.shape)\n",
        "print(y_train.shape)\n",
        "print(\"Shape of test data:\")\n",
        "print(X_test.shape)\n",
        "print(y_test.shape)"
      ]
    },
    {
      "cell_type": "code",
      "execution_count": 167,
      "metadata": {
        "colab": {
          "base_uri": "https://localhost:8080/"
        },
        "id": "pxIcT-yi79vM",
        "outputId": "8eb3327b-4d2e-449d-efd5-c7abcd4c45b3"
      },
      "outputs": [
        {
          "name": "stdout",
          "output_type": "stream",
          "text": [
            "Shape of training data:\n",
            "(50000, 3072)\n",
            "(50000, 1)\n",
            "Shape of test data:\n",
            "(10000, 3072)\n",
            "(10000, 1)\n"
          ]
        }
      ],
      "source": [
        "X_train = np.reshape(X_train,(50000,3072))\n",
        "X_test = np.reshape(X_test,(10000,3072))\n",
        "X_train = X_train.astype('float32')\n",
        "X_test = X_test.astype('float32')\n",
        "\n",
        "X_train /= 255\n",
        "X_test /= 255\n",
        "\n",
        "print(\"Shape of training data:\")\n",
        "print(X_train.shape)\n",
        "print(y_train.shape)\n",
        "print(\"Shape of test data:\")\n",
        "print(X_test.shape)\n",
        "print(y_test.shape)"
      ]
    },
    {
      "cell_type": "code",
      "execution_count": 168,
      "metadata": {
        "colab": {
          "base_uri": "https://localhost:8080/"
        },
        "id": "m54xP9CB6RiX",
        "outputId": "7d3029d6-db76-46e3-9b3d-026f037d54b9"
      },
      "outputs": [
        {
          "name": "stderr",
          "output_type": "stream",
          "text": [
            "/usr/local/lib/python3.10/dist-packages/sklearn/utils/validation.py:1143: DataConversionWarning: A column-vector y was passed when a 1d array was expected. Please change the shape of y to (n_samples, ), for example using ravel().\n",
            "  y = column_or_1d(y, warn=True)\n",
            "/usr/local/lib/python3.10/dist-packages/sklearn/linear_model/_logistic.py:458: ConvergenceWarning: lbfgs failed to converge (status=1):\n",
            "STOP: TOTAL NO. of ITERATIONS REACHED LIMIT.\n",
            "\n",
            "Increase the number of iterations (max_iter) or scale the data as shown in:\n",
            "    https://scikit-learn.org/stable/modules/preprocessing.html\n",
            "Please also refer to the documentation for alternative solver options:\n",
            "    https://scikit-learn.org/stable/modules/linear_model.html#logistic-regression\n",
            "  n_iter_i = _check_optimize_result(\n"
          ]
        }
      ],
      "source": [
        "from sklearn.linear_model import LogisticRegression\n",
        "from sklearn import metrics\n",
        "from sklearn.metrics import classification_report, confusion_matrix, accuracy_score\n",
        "from sklearn.model_selection import cross_val_score, cross_val_predict\n",
        "\n",
        "lr = LogisticRegression(penalty='l2', max_iter = 500, C=1, random_state=42)\n",
        "lr_ci=lr.fit(X_train, y_train)\n",
        "lr_ci_predict=lr.predict(X_test)"
      ]
    },
    {
      "cell_type": "code",
      "execution_count": 169,
      "metadata": {
        "colab": {
          "base_uri": "https://localhost:8080/"
        },
        "id": "d7pqjAxN6zOn",
        "outputId": "9b8c5c60-f80f-4d12-f523-e61ec7fb3be2"
      },
      "outputs": [
        {
          "name": "stdout",
          "output_type": "stream",
          "text": [
            "lr_ci_score : 0.4021\n"
          ]
        }
      ],
      "source": [
        "lr_ci_score=accuracy_score(y_test,lr_ci_predict)\n",
        "print(\"lr_ci_score :\",lr_ci_score)"
      ]
    },
    {
      "cell_type": "code",
      "execution_count": 170,
      "metadata": {
        "colab": {
          "base_uri": "https://localhost:8080/"
        },
        "id": "OL8pFizQ7Iux",
        "outputId": "e00bb250-996e-4fe5-db16-0815122b6354"
      },
      "outputs": [
        {
          "name": "stdout",
          "output_type": "stream",
          "text": [
            "              precision    recall  f1-score   support\n",
            "\n",
            "    airplane       0.45      0.49      0.47      1000\n",
            "  automobile       0.47      0.46      0.46      1000\n",
            "        bird       0.32      0.28      0.30      1000\n",
            "         cat       0.28      0.26      0.27      1000\n",
            "        deer       0.35      0.30      0.32      1000\n",
            "         dog       0.32      0.33      0.32      1000\n",
            "        frog       0.41      0.47      0.44      1000\n",
            "       horse       0.46      0.44      0.45      1000\n",
            "        ship       0.50      0.53      0.52      1000\n",
            "       truck       0.43      0.46      0.45      1000\n",
            "\n",
            "    accuracy                           0.40     10000\n",
            "   macro avg       0.40      0.40      0.40     10000\n",
            "weighted avg       0.40      0.40      0.40     10000\n",
            "\n"
          ]
        }
      ],
      "source": [
        "ci_classes = ['airplane', 'automobile', 'bird', 'cat', 'deer', 'dog', 'frog', 'horse', 'ship', 'truck']\n",
        "lr_ci_report=classification_report(y_test,lr_ci_predict, target_names = ci_classes)\n",
        "print(lr_ci_report)"
      ]
    },
    {
      "cell_type": "code",
      "execution_count": 171,
      "metadata": {
        "id": "oDcotk1toyva"
      },
      "outputs": [],
      "source": [
        "#MLP Model - Adam Optimizer\n",
        "\n",
        "# Transform label indices to one-hot encoded vectors\n",
        "\n",
        "y_train = to_categorical(y_train, num_classes=10)\n",
        "y_test = to_categorical(y_test, num_classes=10)"
      ]
    },
    {
      "cell_type": "code",
      "execution_count": 172,
      "metadata": {
        "id": "kPxROZIJo2_z"
      },
      "outputs": [],
      "source": [
        "from keras.models import Sequential\n",
        "from keras.layers import Dense, Activation\n",
        "from tensorflow.keras.optimizers.legacy import Adam\n",
        "\n",
        "model = Sequential()\n",
        "model.add(Dense(256, activation='relu', input_dim=3072))\n",
        "model.add(Dense(256, activation='relu'))\n",
        "model.add(Dense(10, activation='softmax'))\n",
        "\n",
        "model.compile(optimizer='Adam',loss='categorical_crossentropy',metrics=['accuracy'])"
      ]
    },
    {
      "cell_type": "code",
      "execution_count": 173,
      "metadata": {
        "colab": {
          "base_uri": "https://localhost:8080/"
        },
        "id": "rM23EOIDpe_0",
        "outputId": "6a107120-e000-4bb7-890d-569966e120de"
      },
      "outputs": [
        {
          "name": "stdout",
          "output_type": "stream",
          "text": [
            "Epoch 1/10\n"
          ]
        },
        {
          "name": "stderr",
          "output_type": "stream",
          "text": [
            "/usr/local/lib/python3.10/dist-packages/tensorflow/python/data/ops/structured_function.py:265: UserWarning: Even though the `tf.config.experimental_run_functions_eagerly` option is set, this option does not apply to tf.data functions. To force eager execution of tf.data functions, please use `tf.data.experimental.enable_debug_mode()`.\n",
            "  warnings.warn(\n"
          ]
        },
        {
          "name": "stdout",
          "output_type": "stream",
          "text": [
            "1250/1250 [==============================] - 79s 63ms/step - loss: 1.8837 - accuracy: 0.3140 - val_loss: 1.7438 - val_accuracy: 0.3789\n",
            "Epoch 2/10\n",
            "1250/1250 [==============================] - 79s 63ms/step - loss: 1.6870 - accuracy: 0.3945 - val_loss: 1.6939 - val_accuracy: 0.3894\n",
            "Epoch 3/10\n",
            "1250/1250 [==============================] - 80s 64ms/step - loss: 1.6136 - accuracy: 0.4205 - val_loss: 1.6240 - val_accuracy: 0.4174\n",
            "Epoch 4/10\n",
            "1250/1250 [==============================] - 65s 52ms/step - loss: 1.5643 - accuracy: 0.4405 - val_loss: 1.6109 - val_accuracy: 0.4287\n",
            "Epoch 5/10\n",
            "1250/1250 [==============================] - 65s 52ms/step - loss: 1.5254 - accuracy: 0.4532 - val_loss: 1.5433 - val_accuracy: 0.4552\n",
            "Epoch 6/10\n",
            "1250/1250 [==============================] - 65s 52ms/step - loss: 1.5021 - accuracy: 0.4582 - val_loss: 1.5754 - val_accuracy: 0.4479\n",
            "Epoch 7/10\n",
            "1250/1250 [==============================] - 65s 52ms/step - loss: 1.4803 - accuracy: 0.4688 - val_loss: 1.5279 - val_accuracy: 0.4543\n",
            "Epoch 8/10\n",
            "1250/1250 [==============================] - 65s 52ms/step - loss: 1.4588 - accuracy: 0.4785 - val_loss: 1.5508 - val_accuracy: 0.4548\n",
            "Epoch 9/10\n",
            "1250/1250 [==============================] - 65s 52ms/step - loss: 1.4389 - accuracy: 0.4871 - val_loss: 1.5260 - val_accuracy: 0.4675\n",
            "Epoch 10/10\n",
            "1250/1250 [==============================] - 64s 51ms/step - loss: 1.4246 - accuracy: 0.4903 - val_loss: 1.5234 - val_accuracy: 0.4660\n"
          ]
        }
      ],
      "source": [
        "history = model.fit(X_train,y_train, epochs=10, batch_size=32, verbose=1, validation_split=0.2)"
      ]
    },
    {
      "cell_type": "code",
      "execution_count": 174,
      "metadata": {
        "id": "5GDpOIqfphf5"
      },
      "outputs": [],
      "source": [
        "score = model.evaluate(X_test, y_test, batch_size=128, verbose=0)"
      ]
    },
    {
      "cell_type": "code",
      "execution_count": 175,
      "metadata": {
        "colab": {
          "base_uri": "https://localhost:8080/"
        },
        "id": "LT6jQjjSpkW1",
        "outputId": "9d7ce66e-83eb-418f-bc03-cfe966b0f84c"
      },
      "outputs": [
        {
          "name": "stdout",
          "output_type": "stream",
          "text": [
            "['loss', 'accuracy']\n",
            "[1.4930224418640137, 0.47290000319480896]\n"
          ]
        }
      ],
      "source": [
        "print(model.metrics_names)\n",
        "print(score)"
      ]
    },
    {
      "cell_type": "code",
      "execution_count": 182,
      "metadata": {
        "colab": {
          "base_uri": "https://localhost:8080/"
        },
        "id": "-S4nxmW82dh1",
        "outputId": "81717fbe-05ad-431d-b553-d21ca191fc5e"
      },
      "outputs": [
        {
          "name": "stdout",
          "output_type": "stream",
          "text": [
            "Shape of training data:\n",
            "(50000, 3072)\n",
            "(50000, 10)\n",
            "Shape of test data:\n",
            "(10000, 3072)\n",
            "(10000, 10)\n"
          ]
        }
      ],
      "source": [
        "#MLP Model - SGD Optimizer\n",
        "\n",
        "# Transform label indices to one-hot encoded vectors\n",
        "(X_train, y_train), (X_test, y_test) = cifar10.load_data()\n",
        "X_train = np.reshape(X_train,(50000,3072))\n",
        "X_test = np.reshape(X_test,(10000,3072))\n",
        "X_train = X_train.astype('float32')\n",
        "X_test = X_test.astype('float32')\n",
        "\n",
        "X_train /= 255\n",
        "X_test /= 255\n",
        "y_train = to_categorical(y_train, num_classes=10)\n",
        "y_test = to_categorical(y_test, num_classes=10)\n",
        "\n",
        "\n",
        "\n",
        "print(\"Shape of training data:\")\n",
        "print(X_train.shape)\n",
        "print(y_train.shape)\n",
        "print(\"Shape of test data:\")\n",
        "print(X_test.shape)\n",
        "print(y_test.shape)"
      ]
    },
    {
      "cell_type": "code",
      "execution_count": 183,
      "metadata": {
        "id": "MKMtVZkz2iF2"
      },
      "outputs": [],
      "source": [
        "from keras.models import Sequential\n",
        "from keras.layers import Dense, Activation\n",
        "from tensorflow.keras.optimizers.legacy import SGD\n",
        "\n",
        "model = Sequential()\n",
        "model.add(Dense(256, activation='relu', input_dim=3072))\n",
        "model.add(Dense(256, activation='relu'))\n",
        "model.add(Dense(10, activation='softmax'))\n",
        "sgd = SGD(learning_rate=0.01, decay=1e-6, momentum=0.9, nesterov=True)\n",
        "\n",
        "model.compile(optimizer=sgd,loss='categorical_crossentropy',metrics=['accuracy'])"
      ]
    },
    {
      "cell_type": "code",
      "execution_count": 184,
      "metadata": {
        "colab": {
          "base_uri": "https://localhost:8080/"
        },
        "id": "zgWcqjvt28km",
        "outputId": "ba3d2140-a3a6-4952-a852-77512d6edec1"
      },
      "outputs": [
        {
          "name": "stdout",
          "output_type": "stream",
          "text": [
            "Epoch 1/10\n",
            "1250/1250 [==============================] - 41s 33ms/step - loss: 1.8303 - accuracy: 0.3372 - val_loss: 1.7462 - val_accuracy: 0.3698\n",
            "Epoch 2/10\n",
            "1250/1250 [==============================] - 40s 32ms/step - loss: 1.6615 - accuracy: 0.4062 - val_loss: 1.6560 - val_accuracy: 0.4007\n",
            "Epoch 3/10\n",
            "1250/1250 [==============================] - 39s 31ms/step - loss: 1.5896 - accuracy: 0.4297 - val_loss: 1.6446 - val_accuracy: 0.4169\n",
            "Epoch 4/10\n",
            "1250/1250 [==============================] - 41s 33ms/step - loss: 1.5488 - accuracy: 0.4448 - val_loss: 1.5817 - val_accuracy: 0.4365\n",
            "Epoch 5/10\n",
            "1250/1250 [==============================] - 39s 32ms/step - loss: 1.5073 - accuracy: 0.4603 - val_loss: 1.5626 - val_accuracy: 0.4511\n",
            "Epoch 6/10\n",
            "1250/1250 [==============================] - 38s 31ms/step - loss: 1.4867 - accuracy: 0.4685 - val_loss: 1.5304 - val_accuracy: 0.4564\n",
            "Epoch 7/10\n",
            "1250/1250 [==============================] - 37s 30ms/step - loss: 1.4662 - accuracy: 0.4748 - val_loss: 1.5718 - val_accuracy: 0.4329\n",
            "Epoch 8/10\n",
            "1250/1250 [==============================] - 38s 31ms/step - loss: 1.4464 - accuracy: 0.4822 - val_loss: 1.5820 - val_accuracy: 0.4504\n",
            "Epoch 9/10\n",
            "1250/1250 [==============================] - 37s 30ms/step - loss: 1.4237 - accuracy: 0.4879 - val_loss: 1.5655 - val_accuracy: 0.4582\n",
            "Epoch 10/10\n",
            "1250/1250 [==============================] - 37s 30ms/step - loss: 1.4058 - accuracy: 0.4962 - val_loss: 1.5228 - val_accuracy: 0.4693\n"
          ]
        }
      ],
      "source": [
        "history = model.fit(X_train,y_train, epochs=10, batch_size=32, verbose=1, validation_split=0.2)"
      ]
    },
    {
      "cell_type": "code",
      "execution_count": 185,
      "metadata": {
        "id": "IBo-OpEx50EN"
      },
      "outputs": [],
      "source": [
        "score = model.evaluate(X_test, y_test, batch_size=128, verbose=0)"
      ]
    },
    {
      "cell_type": "code",
      "execution_count": 186,
      "metadata": {
        "colab": {
          "base_uri": "https://localhost:8080/"
        },
        "id": "cHxCGuEX51fT",
        "outputId": "2e50f6ce-b407-406f-9351-1de24edbf8a5"
      },
      "outputs": [
        {
          "name": "stdout",
          "output_type": "stream",
          "text": [
            "['loss', 'accuracy']\n",
            "[1.501010775566101, 0.47780001163482666]\n"
          ]
        }
      ],
      "source": [
        "print(model.metrics_names)\n",
        "print(score)"
      ]
    },
    {
      "cell_type": "code",
      "execution_count": 187,
      "metadata": {
        "id": "88saKktoR-U7"
      },
      "outputs": [],
      "source": [
        "#CNN Model - Adam Optimizer\n",
        "import numpy as np\n",
        "from keras.models import Sequential\n",
        "from keras.layers import Dense,Flatten,Activation,Conv1D,MaxPooling1D, Embedding\n",
        "from keras.preprocessing import sequence\n",
        "\n",
        "#fix random seed for reproducibility\n",
        "seed = 7\n",
        "np.random.seed(seed)\n",
        "max_input = 3072"
      ]
    },
    {
      "cell_type": "code",
      "execution_count": 188,
      "metadata": {
        "id": "9V8rgA_jSjxj"
      },
      "outputs": [],
      "source": [
        "#create the model\n",
        "model = Sequential()\n",
        "model.add(Embedding(3072,32,input_length=max_input))\n",
        "model.add(Conv1D(32,3,padding='same',activation='relu'))\n",
        "model.add(MaxPooling1D(pool_size=2))\n",
        "model.add(Flatten())\n",
        "model.add(Dense(250,activation='relu'))\n",
        "model.add(Dense(10,activation='sigmoid'))"
      ]
    },
    {
      "cell_type": "code",
      "execution_count": 189,
      "metadata": {
        "id": "4-Ey0Q0_SwPB"
      },
      "outputs": [],
      "source": [
        "model.compile(loss='binary_crossentropy',optimizer='adam',metrics=['accuracy'])"
      ]
    },
    {
      "cell_type": "code",
      "execution_count": 190,
      "metadata": {
        "colab": {
          "base_uri": "https://localhost:8080/"
        },
        "id": "-MTfCjVES29g",
        "outputId": "5a6aaccf-2b2a-4f7d-e110-66a0af6ef4d9"
      },
      "outputs": [
        {
          "name": "stdout",
          "output_type": "stream",
          "text": [
            "Model: \"sequential_23\"\n",
            "_________________________________________________________________\n",
            " Layer (type)                Output Shape              Param #   \n",
            "=================================================================\n",
            " embedding_9 (Embedding)     (None, 3072, 32)          98304     \n",
            "                                                                 \n",
            " conv1d_9 (Conv1D)           (None, 3072, 32)          3104      \n",
            "                                                                 \n",
            " max_pooling1d_9 (MaxPoolin  (None, 1536, 32)          0         \n",
            " g1D)                                                            \n",
            "                                                                 \n",
            " flatten_11 (Flatten)        (None, 49152)             0         \n",
            "                                                                 \n",
            " dense_55 (Dense)            (None, 250)               12288250  \n",
            "                                                                 \n",
            " dense_56 (Dense)            (None, 10)                2510      \n",
            "                                                                 \n",
            "=================================================================\n",
            "Total params: 12392168 (47.27 MB)\n",
            "Trainable params: 12392168 (47.27 MB)\n",
            "Non-trainable params: 0 (0.00 Byte)\n",
            "_________________________________________________________________\n"
          ]
        }
      ],
      "source": [
        "model.summary()"
      ]
    },
    {
      "cell_type": "code",
      "execution_count": 191,
      "metadata": {
        "colab": {
          "base_uri": "https://localhost:8080/"
        },
        "id": "EGqVtzZAS75e",
        "outputId": "b14b3986-2b7a-4a22-f26c-f11d961b4e40"
      },
      "outputs": [
        {
          "name": "stdout",
          "output_type": "stream",
          "text": [
            "Epoch 1/2\n",
            "391/391 [==============================] - 143s 365ms/step - loss: 0.3240 - accuracy: 0.1304 - val_loss: 0.3191 - val_accuracy: 0.1550\n",
            "Epoch 2/2\n",
            "391/391 [==============================] - 138s 353ms/step - loss: 0.3147 - accuracy: 0.1665 - val_loss: 0.3175 - val_accuracy: 0.1639\n"
          ]
        },
        {
          "data": {
            "text/plain": [
              "<keras.src.callbacks.History at 0x7f854729f0a0>"
            ]
          },
          "execution_count": 191,
          "metadata": {},
          "output_type": "execute_result"
        }
      ],
      "source": [
        "model.fit(X_train, y_train, validation_data=(X_test,y_test), epochs=2, batch_size=128, verbose=1)"
      ]
    },
    {
      "cell_type": "code",
      "execution_count": 192,
      "metadata": {
        "id": "Itwsgy92TDdZ"
      },
      "outputs": [],
      "source": [
        "scores = model.evaluate(X_test, y_test, verbose=0)"
      ]
    },
    {
      "cell_type": "code",
      "execution_count": 193,
      "metadata": {
        "colab": {
          "base_uri": "https://localhost:8080/"
        },
        "id": "2y3M_5DmTEIO",
        "outputId": "1abbf963-e7c4-41eb-ee75-2bae7ebc2287"
      },
      "outputs": [
        {
          "name": "stdout",
          "output_type": "stream",
          "text": [
            "Accuracy: 16.39%\n"
          ]
        }
      ],
      "source": [
        "print(\"Accuracy: %.2f%%\" %(scores[1]*100))"
      ]
    },
    {
      "cell_type": "code",
      "execution_count": 194,
      "metadata": {
        "colab": {
          "base_uri": "https://localhost:8080/"
        },
        "id": "pKzlIcPAU9Hw",
        "outputId": "92556c38-4255-4560-fa5d-2a6f3b779c14"
      },
      "outputs": [
        {
          "name": "stdout",
          "output_type": "stream",
          "text": [
            "Model: \"sequential_23\"\n",
            "_________________________________________________________________\n",
            " Layer (type)                Output Shape              Param #   \n",
            "=================================================================\n",
            " embedding_9 (Embedding)     (None, 3072, 32)          98304     \n",
            "                                                                 \n",
            " conv1d_9 (Conv1D)           (None, 3072, 32)          3104      \n",
            "                                                                 \n",
            " max_pooling1d_9 (MaxPoolin  (None, 1536, 32)          0         \n",
            " g1D)                                                            \n",
            "                                                                 \n",
            " flatten_11 (Flatten)        (None, 49152)             0         \n",
            "                                                                 \n",
            " dense_55 (Dense)            (None, 250)               12288250  \n",
            "                                                                 \n",
            " dense_56 (Dense)            (None, 10)                2510      \n",
            "                                                                 \n",
            "=================================================================\n",
            "Total params: 12392168 (47.27 MB)\n",
            "Trainable params: 12392168 (47.27 MB)\n",
            "Non-trainable params: 0 (0.00 Byte)\n",
            "_________________________________________________________________\n"
          ]
        }
      ],
      "source": [
        "#CNN Model -  SGD Optimizer\n",
        "model.compile(loss='binary_crossentropy',optimizer='sgd',metrics=['accuracy'])\n",
        "model.summary()"
      ]
    },
    {
      "cell_type": "code",
      "execution_count": 195,
      "metadata": {
        "colab": {
          "base_uri": "https://localhost:8080/"
        },
        "id": "LgXMvlgIVNcE",
        "outputId": "8f5d3b9f-d5d3-4aef-e722-30a91f85f889"
      },
      "outputs": [
        {
          "name": "stdout",
          "output_type": "stream",
          "text": [
            "Epoch 1/2\n",
            "391/391 [==============================] - 123s 316ms/step - loss: 0.3156 - accuracy: 0.1840 - val_loss: 0.3206 - val_accuracy: 0.1389\n",
            "Epoch 2/2\n",
            "391/391 [==============================] - 118s 301ms/step - loss: 0.3069 - accuracy: 0.1915 - val_loss: 0.3207 - val_accuracy: 0.1388\n"
          ]
        },
        {
          "data": {
            "text/plain": [
              "<keras.src.callbacks.History at 0x7f850c474580>"
            ]
          },
          "execution_count": 195,
          "metadata": {},
          "output_type": "execute_result"
        }
      ],
      "source": [
        "model.fit(X_train, y_train, validation_data=(X_test,y_test), epochs=2, batch_size=128, verbose=1)"
      ]
    },
    {
      "cell_type": "code",
      "execution_count": 196,
      "metadata": {
        "id": "YBVNRarLVPiB"
      },
      "outputs": [],
      "source": [
        "scores = model.evaluate(X_test, y_test, verbose=0)"
      ]
    },
    {
      "cell_type": "code",
      "execution_count": 197,
      "metadata": {
        "colab": {
          "base_uri": "https://localhost:8080/"
        },
        "id": "cozFsYuxVQtb",
        "outputId": "db14cf04-dc1b-4a31-8dca-78461b078b8c"
      },
      "outputs": [
        {
          "name": "stdout",
          "output_type": "stream",
          "text": [
            "Accuracy: 13.88%\n"
          ]
        }
      ],
      "source": [
        "print(\"Accuracy: %.2f%%\" %(scores[1]*100))"
      ]
    },
    {
      "cell_type": "code",
      "execution_count": 198,
      "metadata": {
        "id": "c13jcZ8iWFAt"
      },
      "outputs": [],
      "source": [
        "##########MNIST#########\n",
        "\n",
        "#Logistic Regression Model\n",
        "\n",
        "import tensorflow as tf\n",
        "import numpy as np\n",
        "\n",
        "(x_train_mnist, y_train_mnist), (x_test_mnist, y_test_mnist) = tf.keras.datasets.mnist.load_data()\n",
        "assert x_train_mnist.shape == (60000, 28, 28)\n",
        "assert x_test_mnist.shape == (10000, 28, 28)\n",
        "assert y_train_mnist.shape == (60000,)\n",
        "assert y_test_mnist.shape == (10000,)"
      ]
    },
    {
      "cell_type": "code",
      "execution_count": 199,
      "metadata": {
        "id": "QQyjG9sMXXCL"
      },
      "outputs": [],
      "source": [
        "class_names = ['T-shirt/top', 'Trouser', 'Pullover', 'Dress', 'Coat',\n",
        "               'Sandal', 'Shirt', 'Sneaker', 'Bag', 'Ankle boot']"
      ]
    },
    {
      "cell_type": "code",
      "execution_count": 200,
      "metadata": {
        "id": "JFLNA71KXZ1_"
      },
      "outputs": [],
      "source": [
        "\n",
        "x_train_mnist = np.reshape(x_train_mnist,(60000,784))\n",
        "x_test_mnist = np.reshape(x_test_mnist,(10000,784))\n",
        "\n",
        "train_images = x_train_mnist / 255.0\n",
        "\n",
        "test_images = x_test_mnist / 255.0\n"
      ]
    },
    {
      "cell_type": "code",
      "execution_count": 201,
      "metadata": {
        "colab": {
          "base_uri": "https://localhost:8080/"
        },
        "id": "vHHFigwFXuEA",
        "outputId": "70e3d8a4-88e3-42a3-8def-dc5a746db02b"
      },
      "outputs": [
        {
          "name": "stderr",
          "output_type": "stream",
          "text": [
            "/usr/local/lib/python3.10/dist-packages/sklearn/linear_model/_logistic.py:458: ConvergenceWarning: lbfgs failed to converge (status=1):\n",
            "STOP: TOTAL NO. of ITERATIONS REACHED LIMIT.\n",
            "\n",
            "Increase the number of iterations (max_iter) or scale the data as shown in:\n",
            "    https://scikit-learn.org/stable/modules/preprocessing.html\n",
            "Please also refer to the documentation for alternative solver options:\n",
            "    https://scikit-learn.org/stable/modules/linear_model.html#logistic-regression\n",
            "  n_iter_i = _check_optimize_result(\n"
          ]
        }
      ],
      "source": [
        "from sklearn.linear_model import LogisticRegression\n",
        "from sklearn import metrics\n",
        "from sklearn.metrics import classification_report, confusion_matrix, accuracy_score\n",
        "from sklearn.model_selection import cross_val_score, cross_val_predict\n",
        "\n",
        "lr = LogisticRegression(penalty='l2', max_iter = 500, C=1, random_state=42)\n",
        "lr_mnist=lr.fit(train_images, y_train_mnist)\n",
        "lr_mnist_predict=lr.predict(test_images)"
      ]
    },
    {
      "cell_type": "code",
      "execution_count": 202,
      "metadata": {
        "colab": {
          "base_uri": "https://localhost:8080/"
        },
        "id": "y-xjUV40Y-WV",
        "outputId": "e4316f8f-d1b6-400c-c978-16df5ae8ae8a"
      },
      "outputs": [
        {
          "name": "stdout",
          "output_type": "stream",
          "text": [
            "lr_mnist_score : 0.9255\n"
          ]
        }
      ],
      "source": [
        "lr_mnist_score=accuracy_score(y_test_mnist,lr_mnist_predict)\n",
        "print(\"lr_mnist_score :\",lr_mnist_score)"
      ]
    },
    {
      "cell_type": "code",
      "execution_count": 203,
      "metadata": {
        "colab": {
          "base_uri": "https://localhost:8080/"
        },
        "id": "Co5F1CSdZaew",
        "outputId": "32b824f7-6dad-4d5f-d09b-4163cd9dfdb1"
      },
      "outputs": [
        {
          "name": "stdout",
          "output_type": "stream",
          "text": [
            "              precision    recall  f1-score   support\n",
            "\n",
            "           0       0.95      0.98      0.96       980\n",
            "           1       0.96      0.98      0.97      1135\n",
            "           2       0.93      0.90      0.91      1032\n",
            "           3       0.90      0.91      0.91      1010\n",
            "           4       0.94      0.94      0.94       982\n",
            "           5       0.90      0.87      0.88       892\n",
            "           6       0.94      0.95      0.95       958\n",
            "           7       0.93      0.92      0.93      1028\n",
            "           8       0.88      0.88      0.88       974\n",
            "           9       0.91      0.92      0.91      1009\n",
            "\n",
            "    accuracy                           0.93     10000\n",
            "   macro avg       0.92      0.92      0.92     10000\n",
            "weighted avg       0.93      0.93      0.93     10000\n",
            "\n"
          ]
        }
      ],
      "source": [
        "lr_mnist_report=classification_report(y_test_mnist,lr_mnist_predict)\n",
        "print(lr_mnist_report)"
      ]
    },
    {
      "cell_type": "code",
      "execution_count": 204,
      "metadata": {
        "id": "37UZHgz6ah7f"
      },
      "outputs": [],
      "source": [
        "#MLP Model - Adam Optimizer\n",
        "\n",
        "fashion_mnist = tf.keras.datasets.fashion_mnist\n",
        "\n",
        "(train_images, train_labels), (test_images, test_labels) = fashion_mnist.load_data()\n",
        "train_images = train_images / 255.0\n",
        "test_images = test_images / 255.0\n",
        "\n",
        "model = tf.keras.Sequential([\n",
        "    tf.keras.layers.Flatten(input_shape=(28, 28)),\n",
        "    tf.keras.layers.Dense(128, activation='relu'),\n",
        "    tf.keras.layers.Dense(10)\n",
        "])"
      ]
    },
    {
      "cell_type": "code",
      "execution_count": 205,
      "metadata": {
        "id": "8sdzUUMDbr6A"
      },
      "outputs": [],
      "source": [
        "model.compile(optimizer='adam',\n",
        "              loss=tf.keras.losses.SparseCategoricalCrossentropy(from_logits=True),\n",
        "              metrics=['accuracy'])"
      ]
    },
    {
      "cell_type": "code",
      "execution_count": 206,
      "metadata": {
        "colab": {
          "base_uri": "https://localhost:8080/"
        },
        "id": "eVr4CDwtbtWW",
        "outputId": "2b8bfe8c-dfff-4e41-e235-8922cf3af971"
      },
      "outputs": [
        {
          "name": "stdout",
          "output_type": "stream",
          "text": [
            "Epoch 1/10\n",
            "   1/1875 [..............................] - ETA: 2:19 - loss: 2.3511 - accuracy: 0.2188"
          ]
        },
        {
          "name": "stderr",
          "output_type": "stream",
          "text": [
            "/usr/local/lib/python3.10/dist-packages/tensorflow/python/data/ops/structured_function.py:265: UserWarning: Even though the `tf.config.experimental_run_functions_eagerly` option is set, this option does not apply to tf.data functions. To force eager execution of tf.data functions, please use `tf.data.experimental.enable_debug_mode()`.\n",
            "  warnings.warn(\n"
          ]
        },
        {
          "name": "stdout",
          "output_type": "stream",
          "text": [
            "1875/1875 [==============================] - 57s 30ms/step - loss: 0.4912 - accuracy: 0.8276\n",
            "Epoch 2/10\n",
            "1875/1875 [==============================] - 57s 30ms/step - loss: 0.3693 - accuracy: 0.8660\n",
            "Epoch 3/10\n",
            "1875/1875 [==============================] - 56s 30ms/step - loss: 0.3286 - accuracy: 0.8800\n",
            "Epoch 4/10\n",
            "1875/1875 [==============================] - 56s 30ms/step - loss: 0.3096 - accuracy: 0.8852\n",
            "Epoch 5/10\n",
            "1875/1875 [==============================] - 57s 30ms/step - loss: 0.2895 - accuracy: 0.8931\n",
            "Epoch 6/10\n",
            "1875/1875 [==============================] - 57s 31ms/step - loss: 0.2750 - accuracy: 0.8976\n",
            "Epoch 7/10\n",
            "1875/1875 [==============================] - 56s 30ms/step - loss: 0.2654 - accuracy: 0.9014\n",
            "Epoch 8/10\n",
            "1875/1875 [==============================] - 55s 30ms/step - loss: 0.2533 - accuracy: 0.9063\n",
            "Epoch 9/10\n",
            "1875/1875 [==============================] - 56s 30ms/step - loss: 0.2435 - accuracy: 0.9094\n",
            "Epoch 10/10\n",
            "1875/1875 [==============================] - 55s 30ms/step - loss: 0.2330 - accuracy: 0.9139\n"
          ]
        },
        {
          "data": {
            "text/plain": [
              "<keras.src.callbacks.History at 0x7f8678775300>"
            ]
          },
          "execution_count": 206,
          "metadata": {},
          "output_type": "execute_result"
        }
      ],
      "source": [
        "model.fit(train_images, train_labels, epochs=10)"
      ]
    },
    {
      "cell_type": "code",
      "execution_count": 207,
      "metadata": {
        "colab": {
          "base_uri": "https://localhost:8080/"
        },
        "id": "2GHBAIJWbute",
        "outputId": "4bde8e42-80cf-487d-c3a9-9b2aa97cf037"
      },
      "outputs": [
        {
          "name": "stdout",
          "output_type": "stream",
          "text": [
            "313/313 - 4s - loss: 0.3414 - accuracy: 0.8811 - 4s/epoch - 11ms/step\n",
            "\n",
            "Test accuracy: 0.8810999989509583\n"
          ]
        }
      ],
      "source": [
        "test_loss, test_acc = model.evaluate(test_images,  test_labels, verbose=2)\n",
        "\n",
        "print('\\nTest accuracy:', test_acc)"
      ]
    },
    {
      "cell_type": "code",
      "execution_count": 208,
      "metadata": {
        "id": "7WoGTQQepvAo"
      },
      "outputs": [],
      "source": [
        "#MLP Model - SGD Optimizer\n",
        "model.compile(optimizer='sgd',\n",
        "              loss=tf.keras.losses.SparseCategoricalCrossentropy(from_logits=True),\n",
        "              metrics=['accuracy'])\n"
      ]
    },
    {
      "cell_type": "code",
      "execution_count": 209,
      "metadata": {
        "colab": {
          "base_uri": "https://localhost:8080/"
        },
        "id": "BvXzEAyup6ls",
        "outputId": "4ec87ef0-f492-4b4e-b840-ea7e3d86c6eb"
      },
      "outputs": [
        {
          "name": "stdout",
          "output_type": "stream",
          "text": [
            "Epoch 1/10\n",
            "1875/1875 [==============================] - 42s 22ms/step - loss: 0.1948 - accuracy: 0.9289\n",
            "Epoch 2/10\n",
            "1875/1875 [==============================] - 42s 22ms/step - loss: 0.1876 - accuracy: 0.9313\n",
            "Epoch 3/10\n",
            "1875/1875 [==============================] - 42s 22ms/step - loss: 0.1845 - accuracy: 0.9327\n",
            "Epoch 4/10\n",
            "1875/1875 [==============================] - 41s 22ms/step - loss: 0.1828 - accuracy: 0.9335\n",
            "Epoch 5/10\n",
            "1875/1875 [==============================] - 41s 22ms/step - loss: 0.1812 - accuracy: 0.9341\n",
            "Epoch 6/10\n",
            "1875/1875 [==============================] - 43s 23ms/step - loss: 0.1803 - accuracy: 0.9339\n",
            "Epoch 7/10\n",
            "1875/1875 [==============================] - 43s 23ms/step - loss: 0.1789 - accuracy: 0.9340\n",
            "Epoch 8/10\n",
            "1875/1875 [==============================] - 43s 23ms/step - loss: 0.1779 - accuracy: 0.9352\n",
            "Epoch 9/10\n",
            "1875/1875 [==============================] - 43s 23ms/step - loss: 0.1768 - accuracy: 0.9353\n",
            "Epoch 10/10\n",
            "1875/1875 [==============================] - 43s 23ms/step - loss: 0.1762 - accuracy: 0.9356\n"
          ]
        },
        {
          "data": {
            "text/plain": [
              "<keras.src.callbacks.History at 0x7f86947970a0>"
            ]
          },
          "execution_count": 209,
          "metadata": {},
          "output_type": "execute_result"
        }
      ],
      "source": [
        "model.fit(train_images, train_labels, epochs=10)"
      ]
    },
    {
      "cell_type": "code",
      "execution_count": 210,
      "metadata": {
        "colab": {
          "base_uri": "https://localhost:8080/"
        },
        "id": "gA09gR1-p8zT",
        "outputId": "5e7a42d7-8a16-4bd9-cdab-e1d38cae2caa"
      },
      "outputs": [
        {
          "name": "stdout",
          "output_type": "stream",
          "text": [
            "313/313 - 4s - loss: 0.3127 - accuracy: 0.8954 - 4s/epoch - 12ms/step\n",
            "\n",
            "Test accuracy: 0.8953999876976013\n"
          ]
        }
      ],
      "source": [
        "test_loss, test_acc = model.evaluate(test_images,  test_labels, verbose=2)\n",
        "print('\\nTest accuracy:', test_acc)"
      ]
    },
    {
      "cell_type": "code",
      "execution_count": 211,
      "metadata": {
        "id": "LCt72nWAcsij"
      },
      "outputs": [],
      "source": [
        "#CNN Model - Adam Optimizer\n",
        "import numpy as np\n",
        "from keras.models import Sequential\n",
        "from keras.layers import Dense,Flatten,Activation,Conv1D,MaxPooling1D, Embedding\n",
        "from keras.preprocessing import sequence\n",
        "\n",
        "#fix random seed for reproducibility\n",
        "seed = 7\n",
        "np.random.seed(seed)\n",
        "max_input = 784"
      ]
    },
    {
      "cell_type": "code",
      "execution_count": 212,
      "metadata": {
        "id": "Z42qLgV7dUD5"
      },
      "outputs": [],
      "source": [
        "#create the model\n",
        "(train_images, train_labels), (test_images, test_labels) = fashion_mnist.load_data()\n",
        "train_images = np.reshape(train_images,(60000,784))\n",
        "test_images = np.reshape(test_images,(10000,784))\n",
        "train_images = train_images / 255.0\n",
        "test_images = test_images / 255.0\n",
        "\n",
        "\n",
        "model = Sequential()\n",
        "model.add(Embedding(784,32,input_length=max_input))\n",
        "model.add(Conv1D(32,3,padding='same',activation='relu'))\n",
        "model.add(MaxPooling1D(pool_size=2))\n",
        "model.add(Flatten())\n",
        "model.add(Dense(250,activation='relu'))\n",
        "model.add(Dense(10,activation='sigmoid'))"
      ]
    },
    {
      "cell_type": "code",
      "execution_count": 213,
      "metadata": {
        "colab": {
          "base_uri": "https://localhost:8080/"
        },
        "id": "9eFKC7b2hXOM",
        "outputId": "91d7c225-fee0-4206-9cb1-098521ea3e37"
      },
      "outputs": [
        {
          "data": {
            "text/plain": [
              "(10000,)"
            ]
          },
          "execution_count": 213,
          "metadata": {},
          "output_type": "execute_result"
        }
      ],
      "source": [
        "test_labels.shape"
      ]
    },
    {
      "cell_type": "code",
      "execution_count": 214,
      "metadata": {
        "id": "f9vmTVdOjBt_"
      },
      "outputs": [],
      "source": [
        "new_train_labels = np.eye(10)[train_labels]\n",
        "new_test_labels = np.eye(10)[test_labels]"
      ]
    },
    {
      "cell_type": "code",
      "execution_count": 215,
      "metadata": {
        "id": "Hqv-TGADdd7_"
      },
      "outputs": [],
      "source": [
        "model.compile(loss='binary_crossentropy',optimizer='adam',metrics=['accuracy'])"
      ]
    },
    {
      "cell_type": "code",
      "execution_count": 216,
      "metadata": {
        "colab": {
          "base_uri": "https://localhost:8080/"
        },
        "id": "-xMJiGDNdiAG",
        "outputId": "8ac0d808-39de-47e5-aa39-6b9d92cbe56e"
      },
      "outputs": [
        {
          "name": "stdout",
          "output_type": "stream",
          "text": [
            "Model: \"sequential_25\"\n",
            "_________________________________________________________________\n",
            " Layer (type)                Output Shape              Param #   \n",
            "=================================================================\n",
            " embedding_10 (Embedding)    (None, 784, 32)           25088     \n",
            "                                                                 \n",
            " conv1d_10 (Conv1D)          (None, 784, 32)           3104      \n",
            "                                                                 \n",
            " max_pooling1d_10 (MaxPooli  (None, 392, 32)           0         \n",
            " ng1D)                                                           \n",
            "                                                                 \n",
            " flatten_13 (Flatten)        (None, 12544)             0         \n",
            "                                                                 \n",
            " dense_59 (Dense)            (None, 250)               3136250   \n",
            "                                                                 \n",
            " dense_60 (Dense)            (None, 10)                2510      \n",
            "                                                                 \n",
            "=================================================================\n",
            "Total params: 3166952 (12.08 MB)\n",
            "Trainable params: 3166952 (12.08 MB)\n",
            "Non-trainable params: 0 (0.00 Byte)\n",
            "_________________________________________________________________\n"
          ]
        }
      ],
      "source": [
        "model.summary()"
      ]
    },
    {
      "cell_type": "code",
      "execution_count": 217,
      "metadata": {
        "colab": {
          "base_uri": "https://localhost:8080/"
        },
        "id": "7mLXNZ19dk_S",
        "outputId": "500a355e-0414-480a-f892-a62116d553c4"
      },
      "outputs": [
        {
          "name": "stdout",
          "output_type": "stream",
          "text": [
            "Epoch 1/2\n",
            "469/469 [==============================] - 53s 114ms/step - loss: 0.2560 - accuracy: 0.3936 - val_loss: 0.2335 - val_accuracy: 0.4439\n",
            "Epoch 2/2\n",
            "469/469 [==============================] - 53s 113ms/step - loss: 0.2263 - accuracy: 0.4608 - val_loss: 0.2277 - val_accuracy: 0.4556\n"
          ]
        },
        {
          "data": {
            "text/plain": [
              "<keras.src.callbacks.History at 0x7f8697c0b1f0>"
            ]
          },
          "execution_count": 217,
          "metadata": {},
          "output_type": "execute_result"
        }
      ],
      "source": [
        "tf.config.run_functions_eagerly(True)\n",
        "model.fit(train_images, new_train_labels, validation_data=(test_images,new_test_labels), epochs=2, batch_size=128, verbose=1)"
      ]
    },
    {
      "cell_type": "code",
      "execution_count": 218,
      "metadata": {
        "id": "SlQpIbqVdrKI"
      },
      "outputs": [],
      "source": [
        "scores = model.evaluate(test_images, new_test_labels, verbose=0)"
      ]
    },
    {
      "cell_type": "code",
      "execution_count": 219,
      "metadata": {
        "colab": {
          "base_uri": "https://localhost:8080/"
        },
        "id": "Jfs-T7Kqdt_N",
        "outputId": "f1badbcd-c8f1-4705-86e6-fded0d256688"
      },
      "outputs": [
        {
          "name": "stdout",
          "output_type": "stream",
          "text": [
            "Accuracy: 45.56%\n"
          ]
        }
      ],
      "source": [
        "print(\"Accuracy: %.2f%%\" %(scores[1]*100))"
      ]
    },
    {
      "cell_type": "code",
      "execution_count": 220,
      "metadata": {
        "colab": {
          "base_uri": "https://localhost:8080/"
        },
        "id": "z0ShppxLkXpX",
        "outputId": "2d3955ee-4e3a-4555-b595-239f8066df9f"
      },
      "outputs": [
        {
          "name": "stdout",
          "output_type": "stream",
          "text": [
            "Model: \"sequential_25\"\n",
            "_________________________________________________________________\n",
            " Layer (type)                Output Shape              Param #   \n",
            "=================================================================\n",
            " embedding_10 (Embedding)    (None, 784, 32)           25088     \n",
            "                                                                 \n",
            " conv1d_10 (Conv1D)          (None, 784, 32)           3104      \n",
            "                                                                 \n",
            " max_pooling1d_10 (MaxPooli  (None, 392, 32)           0         \n",
            " ng1D)                                                           \n",
            "                                                                 \n",
            " flatten_13 (Flatten)        (None, 12544)             0         \n",
            "                                                                 \n",
            " dense_59 (Dense)            (None, 250)               3136250   \n",
            "                                                                 \n",
            " dense_60 (Dense)            (None, 10)                2510      \n",
            "                                                                 \n",
            "=================================================================\n",
            "Total params: 3166952 (12.08 MB)\n",
            "Trainable params: 3166952 (12.08 MB)\n",
            "Non-trainable params: 0 (0.00 Byte)\n",
            "_________________________________________________________________\n"
          ]
        }
      ],
      "source": [
        "#CNN Model - SGD Optimizer\n",
        "\n",
        "model.compile(loss='binary_crossentropy',optimizer='sgd',metrics=['accuracy'])\n",
        "model.summary()"
      ]
    },
    {
      "cell_type": "code",
      "execution_count": 221,
      "metadata": {
        "colab": {
          "base_uri": "https://localhost:8080/"
        },
        "id": "R6s-uFDjkrmf",
        "outputId": "9ae6601c-2067-4f49-d663-d507dece49a3"
      },
      "outputs": [
        {
          "name": "stdout",
          "output_type": "stream",
          "text": [
            "Epoch 1/2\n",
            "469/469 [==============================] - 44s 95ms/step - loss: 0.2162 - accuracy: 0.4850 - val_loss: 0.2271 - val_accuracy: 0.4603\n",
            "Epoch 2/2\n",
            "469/469 [==============================] - 45s 95ms/step - loss: 0.2156 - accuracy: 0.4870 - val_loss: 0.2269 - val_accuracy: 0.4595\n"
          ]
        },
        {
          "data": {
            "text/plain": [
              "<keras.src.callbacks.History at 0x7f854729e380>"
            ]
          },
          "execution_count": 221,
          "metadata": {},
          "output_type": "execute_result"
        }
      ],
      "source": [
        "tf.config.run_functions_eagerly(True)\n",
        "model.fit(train_images, new_train_labels, validation_data=(test_images,new_test_labels), epochs=2, batch_size=128, verbose=1)"
      ]
    },
    {
      "cell_type": "code",
      "execution_count": 222,
      "metadata": {
        "colab": {
          "base_uri": "https://localhost:8080/"
        },
        "id": "59kjYK8GkvEB",
        "outputId": "e9ece7ee-ffac-4f51-b9d4-e20d6ee9522b"
      },
      "outputs": [
        {
          "name": "stdout",
          "output_type": "stream",
          "text": [
            "Accuracy: 45.95%\n"
          ]
        }
      ],
      "source": [
        "scores = model.evaluate(test_images, new_test_labels, verbose=0)\n",
        "print(\"Accuracy: %.2f%%\" %(scores[1]*100))"
      ]
    },
    {
      "cell_type": "code",
      "execution_count": 224,
      "metadata": {
        "colab": {
          "base_uri": "https://localhost:8080/",
          "height": 87
        },
        "id": "10wlml0Ul26f",
        "outputId": "5f94a92d-f464-4943-ed1f-fdbb73939afb"
      },
      "outputs": [
        {
          "data": {
            "application/vnd.google.colaboratory.intrinsic+json": {
              "type": "string"
            },
            "text/plain": [
              "'As mentioned in the paper, both the Adam and SGD optimizers performed relatively similarly in each of the models created,\\n and each resulted in a similar level of accuracy. When looking at performance per epoch, Adam optimization tended to converge \\n slightly faster than SGD optimization, which can be attributed to Adam being able to take advantage of sparse features and\\n optain faster convergence better than SGD. The models generated here confirm the statements made in the paper.\\n\\n Since Adam is less sensitive to hyperparameter tuning, it was able to train the models in a quicker and more suscinct manner, \\n whereas the SGD is more vulnerable to \"noise\" and hyperparameter tuning, especially in sparse datasets. However to be clear,\\n the results were not drastically different and both models performed relatively similarly.'"
            ]
          },
          "execution_count": 224,
          "metadata": {},
          "output_type": "execute_result"
        }
      ],
      "source": [
        "#######RESULT COMPARISON###########\n",
        "\"\"\"As mentioned in the paper, both the Adam and SGD optimizers performed relatively similarly in each of the models created,\n",
        " and each resulted in a similar level of accuracy. When looking at performance per epoch, Adam optimization tended to converge\n",
        " slightly faster than SGD optimization, which can be attributed to Adam being able to take advantage of sparse features and\n",
        " optain faster convergence better than SGD. The models generated here confirm the statements made in the paper.\n",
        "\n",
        " Since Adam is less sensitive to hyperparameter tuning, it was able to train the models in a quicker and more suscinct manner,\n",
        " whereas the SGD is more vulnerable to \"noise\" and hyperparameter tuning, especially in sparse datasets. However to be clear,\n",
        " the results were not drastically different and both models performed relatively similarly.\"\"\"\n"
      ]
    }
  ],
  "metadata": {
    "colab": {
      "machine_shape": "hm",
      "provenance": []
    },
    "kernelspec": {
      "display_name": "Python 3",
      "name": "python3"
    },
    "language_info": {
      "name": "python"
    }
  },
  "nbformat": 4,
  "nbformat_minor": 0
}
